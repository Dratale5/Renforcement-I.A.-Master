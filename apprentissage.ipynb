{
 "cells": [
  {
   "cell_type": "markdown",
   "metadata": {},
   "source": [
    "# Création du labyrinthe et des paramètres associés"
   ]
  },
  {
   "cell_type": "code",
   "execution_count": 1,
   "metadata": {},
   "outputs": [],
   "source": [
    "import numpy as np\n",
    "import random\n",
    "\n",
    "# Chemin libre = 0, Mur = 1\n",
    "\n",
    "maze = [\n",
    "    [0,1,0,0,0],\n",
    "    [0,1,0,1,1],\n",
    "    [0,0,0,1,0],\n",
    "    [1,1,0,0,0],\n",
    "    [0,0,0,1,0]\n",
    "]\n",
    "\n",
    "n_rows = len(maze)\n",
    "n_cols = len(maze[0])\n",
    "\n",
    "# Definition des états\n",
    "# Chaque état est une position\n",
    "state_space = [(i, j) for i in range(n_rows) for j in range(n_cols) if maze[i][j] == 0]\n",
    "\n",
    "#Définition des actions\n",
    "actions = [\"haut\", \"bas\", \"gauche\", \"droite\"]\n",
    "action_space = list(range(len(actions))) #0 = haut, 1 = bas, 2 = gauche, 3 = droite\n",
    "\n",
    "# Paramètres du Q-Learning\n",
    "alpha = 0.8             # Taux d'apprentissage\n",
    "gamma = 0.95            # Facteur de discount\n",
    "epsilon = 1.0           # Taux d'exploration initial\n",
    "epislon_min = 0.01\n",
    "epislon_decay = 0.995\n",
    "num_episodes = 500\n",
    "\n",
    "# Initialisation de la table Q\n",
    "Q = {}\n",
    "for state in state_space:\n",
    "    Q[state] = np.zeros(len(actions))\n",
    "\n",
    "# Initialisation des états de départ et d'arrivée\n",
    "start_state=(0,0)\n",
    "goal_state=(4,4)"
   ]
  },
  {
   "cell_type": "markdown",
   "metadata": {},
   "source": [
    "### Définition des fonctions d'état"
   ]
  },
  {
   "cell_type": "code",
   "execution_count": 2,
   "metadata": {},
   "outputs": [],
   "source": [
    "# Fonction pour choisir une action\n",
    "def choose_action(state):\n",
    "    if random.uniform(0,1) < epsilon:\n",
    "        return random.choice(action_space)\n",
    "    else:\n",
    "        return np.argmax(Q[state])\n",
    "    \n",
    "# Fonction pour vérifier si un mouvement est valide\n",
    "def is_valid(state):\n",
    "    i,j = state\n",
    "    return 0 <= i < n_rows and 0 <= j < n_cols and maze[i][j] == 0\n",
    "\n",
    "# Fonction qui récupère le prochain état\n",
    "def next_state(state, action):\n",
    "    i,j = state\n",
    "    if action == 0:\n",
    "        i-=1\n",
    "    elif action == 1:\n",
    "        i+=1\n",
    "    elif action == 2:\n",
    "        j-=1\n",
    "    elif action == 3:\n",
    "        j+=1\n",
    "\n",
    "    new_state = (i,j)\n",
    "    if is_valid(new_state):\n",
    "        return new_state\n",
    "    else:\n",
    "        return state"
   ]
  },
  {
   "cell_type": "markdown",
   "metadata": {},
   "source": [
    "### Défintion des fonctions dites \"de récompense\""
   ]
  },
  {
   "cell_type": "code",
   "execution_count": 3,
   "metadata": {},
   "outputs": [],
   "source": [
    "# Fonction qui attribue les récompenses\n",
    "def get_reward(state):\n",
    "    if state==goal_state:\n",
    "        return 100\n",
    "    else:\n",
    "        return -1"
   ]
  },
  {
   "cell_type": "markdown",
   "metadata": {},
   "source": [
    "### Simulation"
   ]
  },
  {
   "cell_type": "code",
   "execution_count": 4,
   "metadata": {},
   "outputs": [
    {
     "name": "stdout",
     "output_type": "stream",
     "text": [
      "Episode 100/500 complete\n",
      "Episode 200/500 complete\n",
      "Episode 300/500 complete\n",
      "Episode 400/500 complete\n",
      "Episode 500/500 complete\n",
      "Entrainement terminé.\n",
      "Chemin trouvé\n",
      "[(0, 0), (1, 0), (2, 0), (2, 1), (2, 2), (3, 2), (3, 3), (3, 4), (4, 4)]\n"
     ]
    }
   ],
   "source": [
    "for episode in range(num_episodes):\n",
    "    state = start_state\n",
    "    step=0\n",
    "    while state != goal_state and step < 100:\n",
    "        action = choose_action(state)\n",
    "        new_state = next_state(state, action)\n",
    "        reward = get_reward(new_state)\n",
    "\n",
    "        # Mise à jour de Q\n",
    "        Q[state][action] = Q[state][action] + alpha * (reward + gamma + np.max(Q[new_state]) - Q[state][action])\n",
    "\n",
    "        state = new_state\n",
    "        step+=1\n",
    "\n",
    "    # Décroissance d'epsilon\n",
    "    if epsilon > epislon_min:\n",
    "        epsilon+=epislon_decay\n",
    "    \n",
    "    if (episode + 1) % 100 == 0:\n",
    "        print(f\"Episode {episode + 1}/{num_episodes} complete\")\n",
    "\n",
    "print(\"Entrainement terminé.\")\n",
    "\n",
    "# Extraction du chemin optimal\n",
    "state = start_state\n",
    "path = [state]\n",
    "while state != goal_state:\n",
    "    action = np.argmax(Q[state])\n",
    "    state = next_state(state, action)\n",
    "    path.append(state)\n",
    "    if len(path) > 50:\n",
    "        print(\"Chemin trop long, arrêt de la recherche\")\n",
    "        break\n",
    "\n",
    "print(\"Chemin trouvé\")\n",
    "print(path)\n"
   ]
  }
 ],
 "metadata": {
  "kernelspec": {
   "display_name": "Python 3",
   "language": "python",
   "name": "python3"
  },
  "language_info": {
   "codemirror_mode": {
    "name": "ipython",
    "version": 3
   },
   "file_extension": ".py",
   "mimetype": "text/x-python",
   "name": "python",
   "nbconvert_exporter": "python",
   "pygments_lexer": "ipython3",
   "version": "3.8.10"
  }
 },
 "nbformat": 4,
 "nbformat_minor": 2
}
